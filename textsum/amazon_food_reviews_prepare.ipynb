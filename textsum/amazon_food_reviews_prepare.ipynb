{
 "cells": [
  {
   "cell_type": "code",
   "execution_count": 1,
   "metadata": {
    "collapsed": true
   },
   "outputs": [],
   "source": [
    "import numpy as np\n",
    "import pandas as pd"
   ]
  },
  {
   "cell_type": "code",
   "execution_count": 2,
   "metadata": {},
   "outputs": [
    {
     "data": {
      "text/html": [
       "<div>\n",
       "<style>\n",
       "    .dataframe thead tr:only-child th {\n",
       "        text-align: right;\n",
       "    }\n",
       "\n",
       "    .dataframe thead th {\n",
       "        text-align: left;\n",
       "    }\n",
       "\n",
       "    .dataframe tbody tr th {\n",
       "        vertical-align: top;\n",
       "    }\n",
       "</style>\n",
       "<table border=\"1\" class=\"dataframe\">\n",
       "  <thead>\n",
       "    <tr style=\"text-align: right;\">\n",
       "      <th></th>\n",
       "      <th>Id</th>\n",
       "      <th>ProductId</th>\n",
       "      <th>UserId</th>\n",
       "      <th>ProfileName</th>\n",
       "      <th>HelpfulnessNumerator</th>\n",
       "      <th>HelpfulnessDenominator</th>\n",
       "      <th>Score</th>\n",
       "      <th>Time</th>\n",
       "      <th>Summary</th>\n",
       "      <th>Text</th>\n",
       "    </tr>\n",
       "  </thead>\n",
       "  <tbody>\n",
       "    <tr>\n",
       "      <th>0</th>\n",
       "      <td>1</td>\n",
       "      <td>B001E4KFG0</td>\n",
       "      <td>A3SGXH7AUHU8GW</td>\n",
       "      <td>delmartian</td>\n",
       "      <td>1</td>\n",
       "      <td>1</td>\n",
       "      <td>5</td>\n",
       "      <td>1303862400</td>\n",
       "      <td>Good Quality Dog Food</td>\n",
       "      <td>I have bought several of the Vitality canned d...</td>\n",
       "    </tr>\n",
       "    <tr>\n",
       "      <th>1</th>\n",
       "      <td>2</td>\n",
       "      <td>B00813GRG4</td>\n",
       "      <td>A1D87F6ZCVE5NK</td>\n",
       "      <td>dll pa</td>\n",
       "      <td>0</td>\n",
       "      <td>0</td>\n",
       "      <td>1</td>\n",
       "      <td>1346976000</td>\n",
       "      <td>Not as Advertised</td>\n",
       "      <td>Product arrived labeled as Jumbo Salted Peanut...</td>\n",
       "    </tr>\n",
       "    <tr>\n",
       "      <th>2</th>\n",
       "      <td>3</td>\n",
       "      <td>B000LQOCH0</td>\n",
       "      <td>ABXLMWJIXXAIN</td>\n",
       "      <td>Natalia Corres \"Natalia Corres\"</td>\n",
       "      <td>1</td>\n",
       "      <td>1</td>\n",
       "      <td>4</td>\n",
       "      <td>1219017600</td>\n",
       "      <td>\"Delight\" says it all</td>\n",
       "      <td>This is a confection that has been around a fe...</td>\n",
       "    </tr>\n",
       "    <tr>\n",
       "      <th>3</th>\n",
       "      <td>4</td>\n",
       "      <td>B000UA0QIQ</td>\n",
       "      <td>A395BORC6FGVXV</td>\n",
       "      <td>Karl</td>\n",
       "      <td>3</td>\n",
       "      <td>3</td>\n",
       "      <td>2</td>\n",
       "      <td>1307923200</td>\n",
       "      <td>Cough Medicine</td>\n",
       "      <td>If you are looking for the secret ingredient i...</td>\n",
       "    </tr>\n",
       "    <tr>\n",
       "      <th>4</th>\n",
       "      <td>5</td>\n",
       "      <td>B006K2ZZ7K</td>\n",
       "      <td>A1UQRSCLF8GW1T</td>\n",
       "      <td>Michael D. Bigham \"M. Wassir\"</td>\n",
       "      <td>0</td>\n",
       "      <td>0</td>\n",
       "      <td>5</td>\n",
       "      <td>1350777600</td>\n",
       "      <td>Great taffy</td>\n",
       "      <td>Great taffy at a great price.  There was a wid...</td>\n",
       "    </tr>\n",
       "  </tbody>\n",
       "</table>\n",
       "</div>"
      ],
      "text/plain": [
       "   Id   ProductId          UserId                      ProfileName  \\\n",
       "0   1  B001E4KFG0  A3SGXH7AUHU8GW                       delmartian   \n",
       "1   2  B00813GRG4  A1D87F6ZCVE5NK                           dll pa   \n",
       "2   3  B000LQOCH0   ABXLMWJIXXAIN  Natalia Corres \"Natalia Corres\"   \n",
       "3   4  B000UA0QIQ  A395BORC6FGVXV                             Karl   \n",
       "4   5  B006K2ZZ7K  A1UQRSCLF8GW1T    Michael D. Bigham \"M. Wassir\"   \n",
       "\n",
       "   HelpfulnessNumerator  HelpfulnessDenominator  Score        Time  \\\n",
       "0                     1                       1      5  1303862400   \n",
       "1                     0                       0      1  1346976000   \n",
       "2                     1                       1      4  1219017600   \n",
       "3                     3                       3      2  1307923200   \n",
       "4                     0                       0      5  1350777600   \n",
       "\n",
       "                 Summary                                               Text  \n",
       "0  Good Quality Dog Food  I have bought several of the Vitality canned d...  \n",
       "1      Not as Advertised  Product arrived labeled as Jumbo Salted Peanut...  \n",
       "2  \"Delight\" says it all  This is a confection that has been around a fe...  \n",
       "3         Cough Medicine  If you are looking for the secret ingredient i...  \n",
       "4            Great taffy  Great taffy at a great price.  There was a wid...  "
      ]
     },
     "execution_count": 2,
     "metadata": {},
     "output_type": "execute_result"
    }
   ],
   "source": [
    "reviews = pd.read_csv('../../Reviews.csv')\n",
    "reviews.head()"
   ]
  },
  {
   "cell_type": "code",
   "execution_count": 3,
   "metadata": {},
   "outputs": [
    {
     "data": {
      "text/html": [
       "<div>\n",
       "<style>\n",
       "    .dataframe thead tr:only-child th {\n",
       "        text-align: right;\n",
       "    }\n",
       "\n",
       "    .dataframe thead th {\n",
       "        text-align: left;\n",
       "    }\n",
       "\n",
       "    .dataframe tbody tr th {\n",
       "        vertical-align: top;\n",
       "    }\n",
       "</style>\n",
       "<table border=\"1\" class=\"dataframe\">\n",
       "  <thead>\n",
       "    <tr style=\"text-align: right;\">\n",
       "      <th></th>\n",
       "      <th>Summary</th>\n",
       "      <th>Text</th>\n",
       "    </tr>\n",
       "  </thead>\n",
       "  <tbody>\n",
       "    <tr>\n",
       "      <th>0</th>\n",
       "      <td>Good Quality Dog Food</td>\n",
       "      <td>I have bought several of the Vitality canned d...</td>\n",
       "    </tr>\n",
       "    <tr>\n",
       "      <th>1</th>\n",
       "      <td>Not as Advertised</td>\n",
       "      <td>Product arrived labeled as Jumbo Salted Peanut...</td>\n",
       "    </tr>\n",
       "    <tr>\n",
       "      <th>2</th>\n",
       "      <td>\"Delight\" says it all</td>\n",
       "      <td>This is a confection that has been around a fe...</td>\n",
       "    </tr>\n",
       "    <tr>\n",
       "      <th>3</th>\n",
       "      <td>Cough Medicine</td>\n",
       "      <td>If you are looking for the secret ingredient i...</td>\n",
       "    </tr>\n",
       "    <tr>\n",
       "      <th>4</th>\n",
       "      <td>Great taffy</td>\n",
       "      <td>Great taffy at a great price.  There was a wid...</td>\n",
       "    </tr>\n",
       "  </tbody>\n",
       "</table>\n",
       "</div>"
      ],
      "text/plain": [
       "                 Summary                                               Text\n",
       "0  Good Quality Dog Food  I have bought several of the Vitality canned d...\n",
       "1      Not as Advertised  Product arrived labeled as Jumbo Salted Peanut...\n",
       "2  \"Delight\" says it all  This is a confection that has been around a fe...\n",
       "3         Cough Medicine  If you are looking for the secret ingredient i...\n",
       "4            Great taffy  Great taffy at a great price.  There was a wid..."
      ]
     },
     "execution_count": 3,
     "metadata": {},
     "output_type": "execute_result"
    }
   ],
   "source": [
    "reviews = reviews[['Summary', 'Text']]\n",
    "\n",
    "reviews = reviews.dropna()\n",
    "reviews.head()"
   ]
  },
  {
   "cell_type": "code",
   "execution_count": 6,
   "metadata": {
    "collapsed": true
   },
   "outputs": [],
   "source": [
    "# A list of contractions from http://stackoverflow.com/questions/19790188/expanding-english-language-contractions-in-python\n",
    "contractions = { \n",
    "\"ain't\": \"am not\",\n",
    "\"aren't\": \"are not\",\n",
    "\"can't\": \"cannot\",\n",
    "\"can't've\": \"cannot have\",\n",
    "\"'cause\": \"because\",\n",
    "\"could've\": \"could have\",\n",
    "\"couldn't\": \"could not\",\n",
    "\"couldn't've\": \"could not have\",\n",
    "\"didn't\": \"did not\",\n",
    "\"doesn't\": \"does not\",\n",
    "\"don't\": \"do not\",\n",
    "\"hadn't\": \"had not\",\n",
    "\"hadn't've\": \"had not have\",\n",
    "\"hasn't\": \"has not\",\n",
    "\"haven't\": \"have not\",\n",
    "\"he'd\": \"he would\",\n",
    "\"he'd've\": \"he would have\",\n",
    "\"he'll\": \"he will\",\n",
    "\"he's\": \"he is\",\n",
    "\"how'd\": \"how did\",\n",
    "\"how'll\": \"how will\",\n",
    "\"how's\": \"how is\",\n",
    "\"i'd\": \"i would\",\n",
    "\"i'll\": \"i will\",\n",
    "\"i'm\": \"i am\",\n",
    "\"i've\": \"i have\",\n",
    "\"isn't\": \"is not\",\n",
    "\"it'd\": \"it would\",\n",
    "\"it'll\": \"it will\",\n",
    "\"it's\": \"it is\",\n",
    "\"let's\": \"let us\",\n",
    "\"ma'am\": \"madam\",\n",
    "\"mayn't\": \"may not\",\n",
    "\"might've\": \"might have\",\n",
    "\"mightn't\": \"might not\",\n",
    "\"must've\": \"must have\",\n",
    "\"mustn't\": \"must not\",\n",
    "\"needn't\": \"need not\",\n",
    "\"oughtn't\": \"ought not\",\n",
    "\"shan't\": \"shall not\",\n",
    "\"sha'n't\": \"shall not\",\n",
    "\"she'd\": \"she would\",\n",
    "\"she'll\": \"she will\",\n",
    "\"she's\": \"she is\",\n",
    "\"should've\": \"should have\",\n",
    "\"shouldn't\": \"should not\",\n",
    "\"that'd\": \"that would\",\n",
    "\"that's\": \"that is\",\n",
    "\"there'd\": \"there had\",\n",
    "\"there's\": \"there is\",\n",
    "\"they'd\": \"they would\",\n",
    "\"they'll\": \"they will\",\n",
    "\"they're\": \"they are\",\n",
    "\"they've\": \"they have\",\n",
    "\"wasn't\": \"was not\",\n",
    "\"we'd\": \"we would\",\n",
    "\"we'll\": \"we will\",\n",
    "\"we're\": \"we are\",\n",
    "\"we've\": \"we have\",\n",
    "\"weren't\": \"were not\",\n",
    "\"what'll\": \"what will\",\n",
    "\"what're\": \"what are\",\n",
    "\"what's\": \"what is\",\n",
    "\"what've\": \"what have\",\n",
    "\"where'd\": \"where did\",\n",
    "\"where's\": \"where is\",\n",
    "\"who'll\": \"who will\",\n",
    "\"who's\": \"who is\",\n",
    "\"won't\": \"will not\",\n",
    "\"wouldn't\": \"would not\",\n",
    "\"you'd\": \"you would\",\n",
    "\"you'll\": \"you will\",\n",
    "\"you're\": \"you are\"\n",
    "}"
   ]
  },
  {
   "cell_type": "code",
   "execution_count": 8,
   "metadata": {
    "collapsed": true
   },
   "outputs": [],
   "source": [
    "# Special tokens\n",
    "PARAGRAPH_START = '<p>'\n",
    "PARAGRAPH_END = '</p>'\n",
    "SENTENCE_START = '<s>'\n",
    "SENTENCE_END = '</s>'\n",
    "UNKNOWN_TOKEN = '<UNK>'\n",
    "PAD_TOKEN = '<PAD>'\n",
    "DOCUMENT_START = '<d>'\n",
    "DOCUMENT_END = '</d>'"
   ]
  },
  {
   "cell_type": "code",
   "execution_count": 50,
   "metadata": {},
   "outputs": [],
   "source": [
    "import nltk, re\n",
    "\n",
    "def clean_text(text, remove_stopwords=True):\n",
    "    '''Remove unwanted characters, stopwords, and format the text to create fewer nulls word embeddings'''\n",
    "    \n",
    "    # Convert words to lower case\n",
    "    text = text.lower()\n",
    "    \n",
    "    # Replace contractions with their longer forms \n",
    "    if True:\n",
    "        text = text.split()\n",
    "        new_text = []\n",
    "        for word in text:\n",
    "            if word in contractions:\n",
    "                new_text.append(contractions[word])\n",
    "            else:\n",
    "                new_text.append(word)\n",
    "        text = \" \".join(new_text)\n",
    "        \n",
    "    text = re.sub('\\.{3}', '. ', text)\n",
    "        \n",
    "    # Add special tokens at both ends of the text\n",
    "    text = \" \".join([DOCUMENT_START, PARAGRAPH_START, SENTENCE_START, text, SENTENCE_END, PARAGRAPH_END, DOCUMENT_END])\n",
    "    \n",
    "    # Replace '.' with sentence start/end tokens\n",
    "    text = (\" \".join(['', SENTENCE_END, SENTENCE_START])).join(text.split('.'))\n",
    "    \n",
    "    # Format words and remove unwanted characters\n",
    "    text = re.sub(r'https?:\\/\\/.*[\\r\\n]*', '', text, flags=re.MULTILINE)\n",
    "    text = re.sub(r'\\<a href', ' ', text)\n",
    "    text = re.sub(r'&amp;', '', text) \n",
    "    #text = re.sub(r'[_\"\\-;%()|+&=*%.,!?:#$@\\[\\]/]', ' ', text)\n",
    "    text = re.sub(r'[_\"\\-;%()|+&=*%.,!?:#$@\\[\\]]', '', text)\n",
    "    text = re.sub(r'<br />', ' ', text)\n",
    "    text = re.sub(r'\\'', ' ', text)\n",
    "    \n",
    "    # Optionally, remove stop words\n",
    "    if remove_stopwords:\n",
    "        text = text.split()\n",
    "        stops = set(nltk.corpus.stopwords.words(\"english\"))\n",
    "        text = [w for w in text if not w in stops]\n",
    "        text = \" \".join(text)\n",
    "        \n",
    "    return text"
   ]
  },
  {
   "cell_type": "code",
   "execution_count": 56,
   "metadata": {},
   "outputs": [
    {
     "name": "stderr",
     "output_type": "stream",
     "text": [
      "100%|██████████| 568428/568428 [00:09<00:00, 57753.32it/s]\n",
      "100%|██████████| 568428/568428 [03:55<00:00, 2411.25it/s]\n"
     ]
    }
   ],
   "source": [
    "from tqdm import tqdm\n",
    "\n",
    "# Clean the summaries and texts\n",
    "clean_summaries = []\n",
    "for summary in tqdm(reviews.Summary):\n",
    "    clean_summaries.append(clean_text(summary, remove_stopwords=False))\n",
    "\n",
    "clean_texts = []\n",
    "for text in tqdm(reviews.Text):\n",
    "    clean_texts.append(clean_text(text, remove_stopwords=True))"
   ]
  },
  {
   "cell_type": "code",
   "execution_count": 52,
   "metadata": {},
   "outputs": [
    {
     "name": "stdout",
     "output_type": "stream",
     "text": [
      "Review # 1\n",
      "Good Quality Dog Food --> <d> <p> <s> good quality dog food </s> </p> </d>\n",
      "I have bought several of the Vitality canned dog food products and have found them all to be of good quality. The product looks more like a stew than a processed meat and it smells better. My Labrador is finicky and she appreciates this product better than  most. --> <d> <p> <s> bought several vitality canned dog food products found good quality </s> <s> product looks like stew processed meat smells better </s> <s> labrador finicky appreciates product better </s> <s> </s> </p> </d>\n",
      "\n",
      "Review # 2\n",
      "Not as Advertised --> <d> <p> <s> not as advertised </s> </p> </d>\n",
      "Product arrived labeled as Jumbo Salted Peanuts...the peanuts were actually small sized unsalted. Not sure if this was an error or if the vendor intended to represent the product as \"Jumbo\". --> <d> <p> <s> product arrived labeled jumbo salted peanuts </s> <s> peanuts actually small sized unsalted </s> <s> sure error vendor intended represent product jumbo </s> <s> </s> </p> </d>\n",
      "\n",
      "Review # 3\n",
      "\"Delight\" says it all --> <d> <p> <s> delight says it all </s> </p> </d>\n",
      "This is a confection that has been around a few centuries.  It is a light, pillowy citrus gelatin with nuts - in this case Filberts. And it is cut into tiny squares and then liberally coated with powdered sugar.  And it is a tiny mouthful of heaven.  Not too chewy, and very flavorful.  I highly recommend this yummy treat.  If you are familiar with the story of C.S. Lewis' \"The Lion, The Witch, and The Wardrobe\" - this is the treat that seduces Edmund into selling out his Brother and Sisters to the Witch. --> <d> <p> <s> confection around centuries </s> <s> light pillowy citrus gelatin nuts case filberts </s> <s> cut tiny squares liberally coated powdered sugar </s> <s> tiny mouthful heaven </s> <s> chewy flavorful </s> <s> highly recommend yummy treat </s> <s> familiar story c </s> <s>s </s> <s> lewis lion witch wardrobe treat seduces edmund selling brother sisters witch </s> <s> </s> </p> </d>\n",
      "\n",
      "Review # 4\n",
      "Cough Medicine --> <d> <p> <s> cough medicine </s> </p> </d>\n",
      "If you are looking for the secret ingredient in Robitussin I believe I have found it.  I got this in addition to the Root Beer Extract I ordered (which was good) and made some cherry soda.  The flavor is very medicinal. --> <d> <p> <s> looking secret ingredient robitussin believe found </s> <s> got addition root beer extract ordered good made cherry soda </s> <s> flavor medicinal </s> <s> </s> </p> </d>\n",
      "\n",
      "Review # 5\n",
      "Great taffy --> <d> <p> <s> great taffy </s> </p> </d>\n",
      "Great taffy at a great price.  There was a wide assortment of yummy taffy.  Delivery was very quick.  If your a taffy lover, this is a deal. --> <d> <p> <s> great taffy great price </s> <s> wide assortment yummy taffy </s> <s> delivery quick </s> <s> taffy lover deal </s> <s> </s> </p> </d>\n",
      "\n"
     ]
    }
   ],
   "source": [
    "# Inspect the cleaned summaries and texts to ensure they have been cleaned well\n",
    "for i in range(5):\n",
    "    print(\"Review #\", i+1)\n",
    "    print(reviews.Summary[i], '-->', clean_summaries[i])\n",
    "    print(reviews.Text[i], '-->', clean_texts[i])\n",
    "    print()"
   ]
  },
  {
   "cell_type": "code",
   "execution_count": 57,
   "metadata": {
    "collapsed": true
   },
   "outputs": [],
   "source": [
    "from sklearn.model_selection import train_test_split\n",
    "\n",
    "texts = {}\n",
    "summaries = {}\n",
    "\n",
    "texts['train'], texts['eval'], summaries['train'], summaries['eval'] = train_test_split(\n",
    "    clean_texts, clean_summaries, train_size=0.8\n",
    ")\n",
    "texts['decode'], texts['eval'], summaries['decode'], summaries['eval'] = train_test_split(\n",
    "    texts['eval'], summaries['eval'], test_size=0.5\n",
    ")"
   ]
  },
  {
   "cell_type": "code",
   "execution_count": 59,
   "metadata": {},
   "outputs": [
    {
     "name": "stderr",
     "output_type": "stream",
     "text": [
      "\n",
      "  0%|          | 0/454742 [00:00<?, ?it/s]\u001b[A\n",
      "  0%|          | 262/454742 [00:00<02:53, 2617.03it/s]\u001b[A\n",
      "  0%|          | 519/454742 [00:00<02:54, 2600.90it/s]\u001b[A\n",
      "  0%|          | 776/454742 [00:00<02:55, 2590.59it/s]\u001b[A\n",
      "  0%|          | 1034/454742 [00:00<02:55, 2585.29it/s]\u001b[A\n",
      "  0%|          | 1294/454742 [00:00<02:55, 2587.53it/s]\u001b[A\n",
      "  0%|          | 1550/454742 [00:00<02:55, 2578.09it/s]\u001b[A\n",
      "  0%|          | 1808/454742 [00:00<02:55, 2576.07it/s]\u001b[A\n",
      "  0%|          | 2065/454742 [00:00<02:55, 2572.98it/s]\u001b[A\n",
      "  1%|          | 2308/454742 [00:00<02:59, 2518.91it/s]\u001b[A\n",
      "  1%|          | 2563/454742 [00:01<02:58, 2527.59it/s]\u001b[A\n",
      "  1%|          | 2822/454742 [00:01<02:57, 2543.72it/s]\u001b[A\n",
      "  1%|          | 3078/454742 [00:01<02:57, 2546.73it/s]\u001b[A\n",
      "  1%|          | 3335/454742 [00:01<02:56, 2552.59it/s]\u001b[A\n",
      "  1%|          | 3591/454742 [00:01<02:56, 2553.23it/s]\u001b[A\n",
      "  1%|          | 3851/454742 [00:01<02:55, 2565.55it/s]\u001b[A\n",
      "  1%|          | 4110/454742 [00:01<02:55, 2571.94it/s]\u001b[A\n",
      "  1%|          | 4368/454742 [00:01<02:55, 2571.75it/s]\u001b[A\n",
      "  1%|          | 4626/454742 [00:01<02:55, 2571.68it/s]\u001b[A\n",
      "  1%|          | 4883/454742 [00:01<02:55, 2570.52it/s]\u001b[A\n",
      "  1%|          | 5140/454742 [00:02<02:54, 2569.88it/s]\u001b[A\n",
      "  1%|          | 5399/454742 [00:02<02:54, 2575.49it/s]\u001b[A\n",
      "  1%|          | 5658/454742 [00:02<02:54, 2578.37it/s]\u001b[A\n",
      "  1%|▏         | 5916/454742 [00:02<02:54, 2575.72it/s]\u001b[A\n",
      "  1%|▏         | 6175/454742 [00:02<02:54, 2576.99it/s]\u001b[A\n",
      "  1%|▏         | 6434/454742 [00:02<02:53, 2579.70it/s]\u001b[A\n",
      "  1%|▏         | 6692/454742 [00:02<02:56, 2541.49it/s]\u001b[A\n",
      "  2%|▏         | 6953/454742 [00:02<02:54, 2559.16it/s]\u001b[A\n",
      "  2%|▏         | 7215/454742 [00:02<02:53, 2575.09it/s]\u001b[A\n",
      "  2%|▏         | 7475/454742 [00:02<02:53, 2582.20it/s]\u001b[A\n",
      "  2%|▏         | 7734/454742 [00:03<02:53, 2576.16it/s]\u001b[A\n",
      "  2%|▏         | 7994/454742 [00:03<02:53, 2581.63it/s]\u001b[A\n",
      "  2%|▏         | 8254/454742 [00:03<02:52, 2585.60it/s]\u001b[A\n",
      "  2%|▏         | 8514/454742 [00:03<02:52, 2588.63it/s]\u001b[A\n",
      "  2%|▏         | 8775/454742 [00:03<02:52, 2592.58it/s]\u001b[A\n",
      "  2%|▏         | 9035/454742 [00:03<02:51, 2593.01it/s]\u001b[A\n",
      "  2%|▏         | 9295/454742 [00:03<02:51, 2591.26it/s]\u001b[A\n",
      "  2%|▏         | 9556/454742 [00:03<02:51, 2593.96it/s]\u001b[A\n",
      "  2%|▏         | 9817/454742 [00:03<02:51, 2597.30it/s]\u001b[A\n",
      "  2%|▏         | 10077/454742 [00:03<02:51, 2594.29it/s]\u001b[A\n",
      "  2%|▏         | 10338/454742 [00:04<02:51, 2596.67it/s]\u001b[A\n",
      "  2%|▏         | 10599/454742 [00:04<02:50, 2600.20it/s]\u001b[A\n",
      "  2%|▏         | 10860/454742 [00:04<02:50, 2600.72it/s]\u001b[A\n",
      "  2%|▏         | 11121/454742 [00:04<02:50, 2602.95it/s]\u001b[A\n",
      "  3%|▎         | 11382/454742 [00:04<02:50, 2599.55it/s]\u001b[A\n",
      "  3%|▎         | 11642/454742 [00:04<02:50, 2599.58it/s]\u001b[A\n",
      "  3%|▎         | 11902/454742 [00:04<02:50, 2598.12it/s]\u001b[A\n",
      "  3%|▎         | 12162/454742 [00:04<02:50, 2597.59it/s]\u001b[A\n",
      "  3%|▎         | 12423/454742 [00:04<02:50, 2599.00it/s]\u001b[A\n",
      "  3%|▎         | 12684/454742 [00:04<02:50, 2599.99it/s]\u001b[A\n",
      "  3%|▎         | 12944/454742 [00:05<02:50, 2590.89it/s]\u001b[A\n",
      "  3%|▎         | 13204/454742 [00:05<02:50, 2592.56it/s]\u001b[A\n",
      "  3%|▎         | 13464/454742 [00:05<02:50, 2594.47it/s]\u001b[A\n",
      "  3%|▎         | 13725/454742 [00:05<02:49, 2597.66it/s]\u001b[A\n",
      "  3%|▎         | 13986/454742 [00:05<02:49, 2599.63it/s]\u001b[A\n",
      "  3%|▎         | 14247/454742 [00:05<02:49, 2599.98it/s]\u001b[A\n",
      "  3%|▎         | 14508/454742 [00:05<02:49, 2600.22it/s]\u001b[A\n",
      "  3%|▎         | 14769/454742 [00:05<02:49, 2596.34it/s]\u001b[A\n",
      "\n",
      "100%|██████████| 454742/454742 [02:55<00:00, 2596.60it/s]\n",
      "100%|██████████| 56843/56843 [00:21<00:00, 2605.22it/s]\n",
      "100%|██████████| 56843/56843 [00:21<00:00, 2609.01it/s]\n"
     ]
    }
   ],
   "source": [
    "from tensorflow.core.example import example_pb2\n",
    "import struct\n",
    "\n",
    "for mode in ['train', 'eval', 'decode']:\n",
    "    with open('data/' + mode + '_food', 'wb') as data_file:\n",
    "        for i in tqdm(range(len(texts[mode]))):\n",
    "            tf_example = example_pb2.Example()\n",
    "            tf_example.features.feature['text'].bytes_list.value.extend(\n",
    "                [texts[mode][i].encode()]\n",
    "            )\n",
    "            tf_example.features.feature['summary'].bytes_list.value.extend(\n",
    "                [summaries[mode][i].encode()]\n",
    "            )\n",
    "            tf_example_str = tf_example.SerializeToString()\n",
    "            str_len = len(tf_example_str)\n",
    "            data_file.write(struct.pack('q', str_len))\n",
    "            data_file.write(struct.pack('%ds' % str_len, tf_example_str))\n"
   ]
  },
  {
   "cell_type": "code",
   "execution_count": 60,
   "metadata": {},
   "outputs": [
    {
     "name": "stderr",
     "output_type": "stream",
     "text": [
      "100%|██████████| 568428/568428 [00:10<00:00, 55230.41it/s]\n",
      "100%|██████████| 568428/568428 [00:04<00:00, 138868.43it/s]\n"
     ]
    }
   ],
   "source": [
    "token_counter = nltk.Counter()\n",
    "\n",
    "for text in tqdm(clean_texts):\n",
    "    token_counter.update(text.split())\n",
    "for summary in tqdm(clean_summaries):\n",
    "    token_counter.update(summary.split())\n"
   ]
  },
  {
   "cell_type": "code",
   "execution_count": 62,
   "metadata": {},
   "outputs": [
    {
     "name": "stdout",
     "output_type": "stream",
     "text": [
      "37186025 191791\n"
     ]
    }
   ],
   "source": [
    "token_count = sum(token_counter.values())\n",
    "print(token_count, len(token_counter))"
   ]
  },
  {
   "cell_type": "code",
   "execution_count": 67,
   "metadata": {},
   "outputs": [
    {
     "data": {
      "text/plain": [
       "[('iowa', 111),\n",
       " ('nicest', 111),\n",
       " ('piping', 111),\n",
       " ('jordan', 111),\n",
       " ('obligate', 111),\n",
       " ('emphasize', 111),\n",
       " ('brag', 111),\n",
       " ('creatures', 111),\n",
       " ('bridal', 110),\n",
       " ('orderd', 110)]"
      ]
     },
     "execution_count": 67,
     "metadata": {},
     "output_type": "execute_result"
    }
   ],
   "source": [
    "token_counter.most_common(10000)[-10:]"
   ]
  },
  {
   "cell_type": "code",
   "execution_count": 69,
   "metadata": {
    "collapsed": true
   },
   "outputs": [],
   "source": [
    "vocab_size = 10000\n",
    "\n",
    "with open('data/vocab_food', 'w') as vocab_file:\n",
    "    most_common_token_count = 0\n",
    "    for _, num in token_counter.most_common(vocab_size):\n",
    "        most_common_token_count += num\n",
    "    print(UNKNOWN_TOKEN, token_count - most_common_token_count, file=vocab_file)\n",
    "    for token, num in token_counter.most_common(vocab_size):\n",
    "        print(token, num, file=vocab_file)\n",
    "    print(PAD_TOKEN, 5, file=vocab_file)\n",
    "    #for token in [PARAGRAPH_END, PARAGRAPH_START, DOCUMENT_END, DOCUMENT_START]:\n",
    "    #    print(token, len(processed_df), file=vocab_file)\n",
    "    #for token in [SENTENCE_END, SENTENCE_START]:\n",
    "    #    print(token, len(processed_df) + token_counter['.'], file=vocab_file)"
   ]
  },
  {
   "cell_type": "code",
   "execution_count": 81,
   "metadata": {},
   "outputs": [
    {
     "name": "stderr",
     "output_type": "stream",
     "text": [
      "100%|██████████| 454742/454742 [02:55<00:00, 2587.00it/s]\n",
      "100%|██████████| 56843/56843 [00:21<00:00, 2590.03it/s]\n",
      "100%|██████████| 56843/56843 [00:21<00:00, 2587.69it/s]\n"
     ]
    }
   ],
   "source": [
    "for mode in ['train', 'eval', 'decode']:\n",
    "    with open('data/' + mode + '_food_test', 'wb') as data_file:\n",
    "        for i in tqdm(range(len(texts[mode]))):\n",
    "            tf_example = example_pb2.Example()\n",
    "            test_input = texts[mode][i].split()\n",
    "            test_sentence = ' '.join(test_input[:6] + test_input[-3:])\n",
    "            #print(test_sentence)\n",
    "            tf_example.features.feature['text'].bytes_list.value.extend(\n",
    "                [test_sentence.encode()]\n",
    "            )\n",
    "            tf_example.features.feature['summary'].bytes_list.value.extend(\n",
    "                [test_sentence.encode()]\n",
    "            )\n",
    "            tf_example_str = tf_example.SerializeToString()\n",
    "            str_len = len(tf_example_str)\n",
    "            data_file.write(struct.pack('q', str_len))\n",
    "            data_file.write(struct.pack('%ds' % str_len, tf_example_str))\n"
   ]
  },
  {
   "cell_type": "code",
   "execution_count": 73,
   "metadata": {},
   "outputs": [
    {
     "name": "stdout",
     "output_type": "stream",
     "text": [
      "creating\n",
      "secret\n"
     ]
    }
   ],
   "source": [
    "print(texts['eval'][123].split()[4])\n",
    "print(summaries['eval'][123].split()[4])"
   ]
  },
  {
   "cell_type": "code",
   "execution_count": null,
   "metadata": {
    "collapsed": true
   },
   "outputs": [],
   "source": []
  }
 ],
 "metadata": {
  "kernelspec": {
   "display_name": "Python 3",
   "language": "python",
   "name": "python3"
  },
  "language_info": {
   "codemirror_mode": {
    "name": "ipython",
    "version": 3
   },
   "file_extension": ".py",
   "mimetype": "text/x-python",
   "name": "python",
   "nbconvert_exporter": "python",
   "pygments_lexer": "ipython3",
   "version": "3.5.2"
  }
 },
 "nbformat": 4,
 "nbformat_minor": 2
}
