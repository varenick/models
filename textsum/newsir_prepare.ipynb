{
 "cells": [
  {
   "cell_type": "code",
   "execution_count": 1,
   "metadata": {
    "collapsed": true
   },
   "outputs": [],
   "source": [
    "import numpy as np"
   ]
  },
  {
   "cell_type": "code",
   "execution_count": 39,
   "metadata": {},
   "outputs": [
    {
     "data": {
      "text/plain": [
       "(1000000, 1000000)"
      ]
     },
     "execution_count": 39,
     "metadata": {},
     "output_type": "execute_result"
    }
   ],
   "source": [
    "import json\n",
    "\n",
    "contents = []\n",
    "titles = []\n",
    "\n",
    "with open('../../signalmedia-1m.jsonl') as newsir_file:\n",
    "    for line in newsir_file:\n",
    "        sample = json.loads(line)\n",
    "        contents.append(sample['content'])\n",
    "        titles.append(sample['title'])\n",
    "        \n",
    "len(contents), len(titles)"
   ]
  },
  {
   "cell_type": "code",
   "execution_count": 3,
   "metadata": {
    "collapsed": true
   },
   "outputs": [],
   "source": [
    "# A list of contractions from http://stackoverflow.com/questions/19790188/expanding-english-language-contractions-in-python\n",
    "contractions = { \n",
    "\"ain't\": \"am not\",\n",
    "\"aren't\": \"are not\",\n",
    "\"can't\": \"cannot\",\n",
    "\"can't've\": \"cannot have\",\n",
    "\"'cause\": \"because\",\n",
    "\"could've\": \"could have\",\n",
    "\"couldn't\": \"could not\",\n",
    "\"couldn't've\": \"could not have\",\n",
    "\"didn't\": \"did not\",\n",
    "\"doesn't\": \"does not\",\n",
    "\"don't\": \"do not\",\n",
    "\"hadn't\": \"had not\",\n",
    "\"hadn't've\": \"had not have\",\n",
    "\"hasn't\": \"has not\",\n",
    "\"haven't\": \"have not\",\n",
    "\"he'd\": \"he would\",\n",
    "\"he'd've\": \"he would have\",\n",
    "\"he'll\": \"he will\",\n",
    "\"he's\": \"he is\",\n",
    "\"how'd\": \"how did\",\n",
    "\"how'll\": \"how will\",\n",
    "\"how's\": \"how is\",\n",
    "\"i'd\": \"i would\",\n",
    "\"i'll\": \"i will\",\n",
    "\"i'm\": \"i am\",\n",
    "\"i've\": \"i have\",\n",
    "\"isn't\": \"is not\",\n",
    "\"it'd\": \"it would\",\n",
    "\"it'll\": \"it will\",\n",
    "\"it's\": \"it is\",\n",
    "\"let's\": \"let us\",\n",
    "\"ma'am\": \"madam\",\n",
    "\"mayn't\": \"may not\",\n",
    "\"might've\": \"might have\",\n",
    "\"mightn't\": \"might not\",\n",
    "\"must've\": \"must have\",\n",
    "\"mustn't\": \"must not\",\n",
    "\"needn't\": \"need not\",\n",
    "\"oughtn't\": \"ought not\",\n",
    "\"shan't\": \"shall not\",\n",
    "\"sha'n't\": \"shall not\",\n",
    "\"she'd\": \"she would\",\n",
    "\"she'll\": \"she will\",\n",
    "\"she's\": \"she is\",\n",
    "\"should've\": \"should have\",\n",
    "\"shouldn't\": \"should not\",\n",
    "\"that'd\": \"that would\",\n",
    "\"that's\": \"that is\",\n",
    "\"there'd\": \"there had\",\n",
    "\"there's\": \"there is\",\n",
    "\"they'd\": \"they would\",\n",
    "\"they'll\": \"they will\",\n",
    "\"they're\": \"they are\",\n",
    "\"they've\": \"they have\",\n",
    "\"wasn't\": \"was not\",\n",
    "\"we'd\": \"we would\",\n",
    "\"we'll\": \"we will\",\n",
    "\"we're\": \"we are\",\n",
    "\"we've\": \"we have\",\n",
    "\"weren't\": \"were not\",\n",
    "\"what'll\": \"what will\",\n",
    "\"what're\": \"what are\",\n",
    "\"what's\": \"what is\",\n",
    "\"what've\": \"what have\",\n",
    "\"where'd\": \"where did\",\n",
    "\"where's\": \"where is\",\n",
    "\"who'll\": \"who will\",\n",
    "\"who's\": \"who is\",\n",
    "\"won't\": \"will not\",\n",
    "\"wouldn't\": \"would not\",\n",
    "\"you'd\": \"you would\",\n",
    "\"you'll\": \"you will\",\n",
    "\"you're\": \"you are\"\n",
    "}"
   ]
  },
  {
   "cell_type": "code",
   "execution_count": 4,
   "metadata": {
    "collapsed": true
   },
   "outputs": [],
   "source": [
    "# Special tokens\n",
    "PARAGRAPH_START = '<p>'\n",
    "PARAGRAPH_END = '</p>'\n",
    "SENTENCE_START = '<s>'\n",
    "SENTENCE_END = '</s>'\n",
    "UNKNOWN_TOKEN = '<UNK>'\n",
    "PAD_TOKEN = '<PAD>'\n",
    "DOCUMENT_START = '<d>'\n",
    "DOCUMENT_END = '</d>'"
   ]
  },
  {
   "cell_type": "code",
   "execution_count": 40,
   "metadata": {
    "collapsed": true
   },
   "outputs": [],
   "source": [
    "import nltk, re\n",
    "\n",
    "def clean_text(text, remove_stopwords=True, max_sentence_count=None):\n",
    "    '''Remove unwanted characters, stopwords, and format the text to create fewer nulls word embeddings'''\n",
    "    \n",
    "    # Convert words to lower case\n",
    "    text = text.lower()\n",
    "    \n",
    "    # Replace contractions with their longer forms \n",
    "    if True:\n",
    "        text = text.split()\n",
    "        new_text = []\n",
    "        for word in text:\n",
    "            if word in contractions:\n",
    "                new_text.append(contractions[word])\n",
    "            else:\n",
    "                new_text.append(word)\n",
    "        text = \" \".join(new_text)\n",
    "        \n",
    "    text = re.sub('\\.{3}', '. ', text)\n",
    "        \n",
    "    # Replace '.' with sentence start/end tokens\n",
    "    if max_sentence_count:\n",
    "        text = (\" \".join(['', SENTENCE_END, SENTENCE_START])).join(text.split('.')[:max_sentence_count])\n",
    "    else:\n",
    "        text = (\" \".join(['', SENTENCE_END, SENTENCE_START])).join(text.split('.'))\n",
    "    \n",
    "    # Add special tokens at both ends of the text\n",
    "    text = \" \".join([DOCUMENT_START, PARAGRAPH_START, SENTENCE_START, text, SENTENCE_END, PARAGRAPH_END, DOCUMENT_END])\n",
    "    \n",
    "    # Format words and remove unwanted characters\n",
    "    text = re.sub(r'https?:\\/\\/.*[\\r\\n]*', '', text, flags=re.MULTILINE)\n",
    "    text = re.sub(r'\\<a href', ' ', text)\n",
    "    text = re.sub(r'&amp;', '', text) \n",
    "    #text = re.sub(r'[_\"\\-;%()|+&=*%.,!?:#$@\\[\\]/]', ' ', text)\n",
    "    text = re.sub(r'[_\"\\-;%()|+&=*%.,!?:#$@\\[\\]]', '', text)\n",
    "    text = re.sub(r'<br />', ' ', text)\n",
    "    text = re.sub(r'\\'', ' ', text)\n",
    "    \n",
    "    # Optionally, remove stop words\n",
    "    if remove_stopwords:\n",
    "        text = text.split()\n",
    "        stops = set(nltk.corpus.stopwords.words(\"english\"))\n",
    "        text = [w for w in text if not w in stops]\n",
    "        text = \" \".join(text)\n",
    "        \n",
    "    return text"
   ]
  },
  {
   "cell_type": "code",
   "execution_count": 41,
   "metadata": {},
   "outputs": [
    {
     "name": "stderr",
     "output_type": "stream",
     "text": [
      "100%|██████████| 1000000/1000000 [00:21<00:00, 46276.58it/s]\n",
      "100%|██████████| 1000000/1000000 [10:50<00:00, 1536.64it/s]\n"
     ]
    }
   ],
   "source": [
    "from tqdm import tqdm\n",
    "\n",
    "clean_titles = []\n",
    "for title in tqdm(titles):\n",
    "    clean_titles.append(clean_text(title, remove_stopwords=False, max_sentence_count=1))\n",
    "\n",
    "clean_contents = []\n",
    "for content in tqdm(contents):\n",
    "    clean_contents.append(clean_text(content, remove_stopwords=True, max_sentence_count=2))\n"
   ]
  },
  {
   "cell_type": "code",
   "execution_count": 44,
   "metadata": {},
   "outputs": [
    {
     "name": "stdout",
     "output_type": "stream",
     "text": [
      "Article # 1\n",
      "Worcester breakfast club for veterans gives hunger its marching orders \n",
      "-->\n",
      " <d> <p> <s> worcester breakfast club for veterans gives hunger its marching orders </s> </p> </d>\n",
      "VETERANS saluted Worcester's first ever breakfast club for ex-soldiers which won over hearts, minds and bellies. \n",
      " \n",
      "The Worcester Breakfast Club for HM Forces Veterans met at the Postal Order in Foregate Street at 10am on Saturday. \n",
      " \n",
      "The club is designed to allow veterans a place to meet, socialise, eat and drink, giving hunger and loneliness their marching orders. \n",
      " \n",
      "Father-of-two Dave Carney, aged 43, of Merrimans Hill, Worcester, set up the club after being inspired by other similar clubs across the country. \n",
      " \n",
      "He said: \"As you can see from the picture, we had a good response. Five out of the 10 that attended said they saw the article in the newspaper and turned up. \n",
      " \n",
      "\"We even had an old chap travel from Droitwich and he was late on parade by three hours. \n",
      " \n",
      "\"It's generated a lot of interest and I estimate (from other veterans who saw the article) that next month's meeting will attract about 20 people. Onwards and upwards.\" \n",
      " \n",
      "He said the management at the pub had been extremely hospitable to them. \n",
      " \n",
      "Mr Carney said: \"They bent over backwards for us. They really looked after us well. That is the best choice of venue I could have made. They even put 'reserved for the armed forces'. \n",
      "   Promoted stories   \n",
      "The reserve veteran with the Royal Engineers wanted to go to a breakfast club but found the nearest ones were in Bromsgrove and Gloucester so he decided to set up his own, closer to home. \n",
      " \n",
      "He was influenced by Derek Hardman who set up a breakfast club for veterans in Hull and Andy Wilson who set one up in Newcastle. He said the idea has snowballed and there were now 70 similar clubs across the country and even some in Germany. \n",
      " \n",
      "Mr Carney said with many Royal British Legion clubs closing he wanted veterans and serving personnel to feel they had somewhere they could go for good grub, beer and banter to recapture the comradery of being in the forces. \n",
      " \n",
      "The Postal Order was chosen because of its central location and its proximity to the railway station and hotels and reasonably priced food and drink. \n",
      " \n",
      "The management of the pub have even given the veterans a designated area within the pub. \n",
      "   \n",
      " Share article  \n",
      "   \n",
      "The next meeting is at the Postal Order on Saturday, October 3 at 10am. \n",
      " \n",
      "The breakfast club meets on the first Saturday of each month for those who want to attend in future. \n",
      "-->\n",
      " <d> <p> <s> veterans saluted worcester first ever breakfast club exsoldiers hearts minds bellies </s> <s> worcester breakfast club hm forces veterans met postal order foregate street 10am saturday </s> </p> </d>\n",
      "\n",
      "Article # 2\n",
      "Jumpshot Gives Marketers Renewed Visibility Into Paid and Organic Keywords With Launch of Jumpshot Elite \n",
      "-->\n",
      " <d> <p> <s> jumpshot gives marketers renewed visibility into paid and organic keywords with launch of jumpshot elite </s> </p> </d>\n",
      "New Product Gives Marketers Access to Real Keywords, Conversions and Results Along With 13 Months of Historical Data \n",
      "\n",
      "SAN FRANCISCO, CA -- (Marketwired) -- 09/17/15 -- Jumpshot, a marketing analytics company that uses distinctive data sources to paint a complete picture of the online customer journey, today announced the launch of Jumpshot Elite, giving marketers insight into what their customers are doing the 99% of the time they're not on your site. For years, marketers have been unable to see what organic and paid search terms users were entering, much less tie those searches to purchases. Jumpshot not only injects that user search visibility back into the market, but also makes it possible to tie those keywords to conversions -- for any web site. \n",
      "\n",
      "\"Ever since search engines encrypted search results, marketers have been in the dark about keywords, impacting not only the insight into their own search investments, but also their ability to unearth high converting keywords for their competitors,\" said Deren Baker, CEO of Jumpshot. \"Our platform eliminates the hacks, assumptions, and guesswork that marketers are doing now and provides real data: actual searches tied to actual conversions conducted by real people with nothing inferred.\" \n",
      "\n",
      "Unlike other keyword research tools that receive data through the Adwords API or send bots to cobble together various data inputs and implied metrics, Jumpshot leverages its panel of over 115 million global consumers to analyze real search activity. As a result, Jumpshot is able to provide companies with actionable data to improve the ROI of their search marketing campaigns, SEO tactics and content marketing initiatives. \n",
      "\n",
      "Available today, Jumpshot Elite provides 13 months of backward-looking data as well as: \n",
      "\n",
      "Access to real queries used by searchers \n",
      "\n",
      "Paid and organic results for any website \n",
      "\n",
      "Visibility into organic keywords, eliminating the \"not provided\" outcome in web analytics \n",
      "\n",
      "Real user queries, clicks and transactions instead of machine-generated clicks with inferred results \n",
      "\n",
      "Ability to tie keywords to real transactions on any website \n",
      "\n",
      "Variable attribution models and lookback windows \n",
      "\n",
      "Launched in January, 2015, Jumpshot grew out of the ambitions of a group of smart marketers and data scientists who were frustrated about the limitations of the data they had access to, and excited about the opportunity to provide new insights into online behavior. \n",
      "\n",
      "The company uses distinctive data sources to paint a complete picture of the online world for businesses, from where customers spend time online to what they do there and how they get from place to place. By tracking the online customer journey down to each click, Jumpshot reveals how and why customers arrive at purchase decisions. The company tracks more data in more detail than other services, tracking 160 billion monthly clicks generated by its extensive data panel. \n",
      "\n",
      "About Jumpshot \n",
      "\n",
      "Jumpshot is a marketing analytics platform that reveals the entire customer journey -- from the key sources of traffic to a site, to browsing and buying behavior on any domain. With a panel of 115 million users, Jumpshot provides marketers with the insight to understand what their customers are doing the 99% of the time they're not on their own site -- a scope of information never before attainable. Jumpshot was founded in 2015 and is headquartered in San Francisco. \n",
      "\n",
      "For more information, please visit www.jumpshot.com. \n",
      "\n",
      "Image Available: http://www2.marketwire.com/mw/frame_mw?attachid=2889222 \n",
      "\n",
      "Kelly Mayes \n",
      "\n",
      "The Bulleit Group \n",
      "\n",
      "615-200-8845 \n",
      "\n",
      "Published Sep. 17, 2015 \n",
      "\n",
      "Copyright © 2015 SYS-CON Media, Inc. — All Rights Reserved. \n",
      "\n",
      "Syndicated stories and blog feeds, all rights reserved by the author. \n",
      "-->\n",
      " <d> <p> <s> new product gives marketers access real keywords conversions results along 13 months historical data san francisco ca marketwired 09/17/15 jumpshot marketing analytics company uses distinctive data sources paint complete picture online customer journey today announced launch jumpshot elite giving marketers insight customers 99 time site </s> <s> years marketers unable see organic paid search terms users entering much less tie searches purchases </s> </p> </d>\n",
      "\n",
      "Article # 3\n",
      "The Return Of The Nike Air Max Sensation Has 80’s Babies Hyped! \n",
      "-->\n",
      " <d> <p> <s> the return of the nike air max sensation has 80’s babies hyped </s> </p> </d>\n",
      "Home »\r",
      "Style » The Return Of The Nike Air Max Sensation Has 80’s Babies Hyped!\tPosted on Sep 22, 2015\r",
      "If you were a basketball fan who was born in the 80s, you were lucky enough to witness the beauty that is 90s basketball. It was truly a great time to be basketball fan. If you played close attention to what the players were wearing on their feet you would have also noticed the wide array of footwear these player used to rock. One of those happens to the the Nike Air Max Sensation, which is also set to receive the retro treatment this year! Originally released back in …read more Author: KicksOnFire\tShare This Post On\r",
      "GoogleFacebookTwitter \n",
      "-->\n",
      " <d> <p> <s> home » style » return nike air max sensation 80’s babies hyped posted sep 22 2015 basketball fan born 80s lucky enough witness beauty 90s basketball </s> <s> truly great time basketball fan </s> </p> </d>\n",
      "\n",
      "Article # 4\n",
      "This New Dating App Will Ruin Your Internet Game \n",
      "-->\n",
      " <d> <p> <s> this new dating app will ruin your internet game </s> </p> </d>\n",
      "NYMag.com Daily Intelligencer Vulture The Cut Science of Us Grub Street Bedford & Bowery FOLLOW: Facebook Twitter UserName LOG IN REGISTER Fashions Runway Street Style Designers Fame Beauty Goods Love & War search Sections Fashions Fame Beauty Goods Love & War Plus Runway Street Style Designers Sites NYMag.com Daily Intelligencer Vulture Science of Us Grub Street Bedford & Bowery Like UsFollow Us Popular on The Cut Ask Polly: Should I Just Give Up on My Writing? » Top Shows Oscar de la Renta See it » Michael Kors See it » Suno See it » Coach See it » Narciso Rodriguez See it » Tory Burch See it » Carolina Herrera See it » Rodarte See it » Diesel Black Gold See it » Jeremy Scott See it » Thom Browne See it » rag & bone See it » Tommy Hilfiger See it » Prabal Gurung See it » Diane Von Furstenberg See it » keeping us honest September 16, 2015 7:12 p.m. This New Dating App Will Ruin Your Internet Game By Allison P. Davis Follow @allisonpdavis No photos over six hours old allowed. 37 Shares Share 29 Tweet 8 Share 0 Pin It 0 Share Email Print Share Photo: Uwe Umstaetter/Westend61/Corbis The best photo of me was taken about a few years ago: I will never again look so young, so free, or so skinny as I was in that shot. Do I still use that fairly blatant misrepresentation of my current self on my OKCupid profile? You bet I do.  Unfortunately, a Swedish dating site called 7Heaven wants to ruin my internet game by only hosting photos of members that were taken in the last six hours. It can check timestamps. Don't even try to trick it; it's smarter than us.   Users can upload new ones as they want to, but only if they were recently snapped. It doesn’t matter who you are now — bald, chubby, with bad bangs, a bad haircut, or a new tattoo — 7Heaven only wants that authentic, current self presented to potential suitors. That seems like so much work! Trying to get yourself dating-site-selfie-ready every six hours?\n",
      "At first I thought, Chill out! How much does a person actually change in six hours? But then I remembered the disparity between how I look at work and how I look when I come home at night, take off my pants, remove my makeup, and fall asleep on the couch for a few hours before I start Tindering. Maybe six hours is too long a time period. Springwise Tags:dating appsimproved dating appskeeping us honestdatinglove and warMore Share on Facebook Tweet this Story Top Stories Sophie Theallet’s Elevated Triumph; Narciso Rodriguez’s Decisiveness Vote for the Top Street-Style Star, Day 6 A Hyperreal Peek Into the Fashion Week Funhouse Most Viewed Stories Ask Polly: Should I Just Give Up on My Writing? 2k Shares Share Tweet Khaleesi Is the Queen of Going-Out Tops 3.3k Shares Share Tweet Kanye Relegates Kendall to Second Row at Yeezy Show [Updated] 14 Shares Share Tweet Beware the Manic Pixie Dream Boyfriend 4.1k Shares Share Tweet The Bisexual Grad Student Laughing at Fifty Shades of Grey 272 Shares Share Tweet 5 Things You Should Buy at Sephora This Month 140 Shares Share Tweet The Best Street Style From New York Fashion Week 1.2k Shares Share Tweet Frolicking on the Edges of Fashion’s Absurd Pool 191 Shares Share Tweet Fashion Taps Into the Spiritual Side of Things 170 Shares Share Tweet Airline Grounds 130 Crew Members Over Their BMIs 181 Shares Share Tweet From Our Partners POPSUGAR Fashion The 8 Style Habits of Insanely Gorgeous Supermodels HuffPost Parents Sean Penn Is Adopting Charlize Theron's Son HuffPost Women 15 Signs You're With A Good Man POPSUGAR Beauty The Eye Makeup Tip That Will Put Plastic Surgeons Out of Business powered by PubExchange The Cut’s Latest Love and War Features 7:12 p.m.This New Dating App Will Ruin Your Internet Game\n",
      "No photos over six hours old allowed. 3:50 p.m.Please, Stop With the Muppet Sex.\n",
      "Is Animal an animal in the sack? I don’t want to know. 2:59 p.m.New York Magazine’s ‘Sex Lives’ Podcast: A Cultural History of the Bionic Dong\n",
      "Listen to this week's \"Sex Lives\" podcast. 2:25 p.m.Kate McKinnon Is Repping for Crazy Cat Ladies\n",
      "There's nothing to be ashamed of. 1:40 p.m.Men Want Their Parental Leave, Too, Damn It\n",
      "More and more of them are suing to get it — and winning. 1:30 p.m.Kanye Relegates Kendall to Second Row at Yeezy Show [Updated]\n",
      "What blasphemy is this? 10:02 a.m.Does This Standing Desk Make My Butt Look Big?\n",
      "And other things to worry about now that sitting is the new smoking. 7:59 a.m.Ask Polly: Should I Just Give Up on My Writing?\n",
      "Writing can't be a popularity contest, and popularity doesn't add up to much anyway. Yesterday at 4:50 p.m.Airline Grounds 130 Crew Members Over Their BMIs\n",
      "But the BMI policy doesn't actually make sense. Yesterday at 3:45 p.m.Kate Spade Wins Gloria Steinem in Female-Icon Arms Race\n",
      "Joan Didion was booked.\n",
      "Yesterday at 1:20 p.m.Is There a Phallus in This Taylor Swift Corn Maze? Do you see what I see? Yesterday at 10:33 a.m.A Salute to the Women of American Ninja Warrior\n",
      "And the show that's become an unlikely athletic equalizer. Yesterday at 9:36 a.m.Johnny Depp Meets His Future Past\n",
      "A tiny little Depp. Yesterday at 9:24 a.m.Ellen Page and Girlfriend Are in Tuxes, in Love\n",
      "A stylish debut for a new couple. Yesterday at 8:12 a.m.The Bisexual Grad Student Laughing at Fifty Shades of Grey\n",
      "This week’s sex diary. 9/14/2015 at 5:40 p.m.Watching Kim Kardashian Watch Herself in Her Phone Camera\n",
      "Me, a dog wearing a baseball hat, and all the Kardashians walk into an Apple Store. 9/14/2015 at 4:30 p.m.Why Women Love to Read About Crime Reading about it, that is. 9/14/2015 at 1:20 p.m.Serena Williams Was Born to Be Historic and Badass\n",
      "\"And if anyone doesn’t like it, then they don’t have to.\" 9/14/2015 at 11:21 a.m.Kim Cattrall Is Redefining Motherhood\n",
      "Don't call her childless, child. 9/14/2015 at 10:16 a.m.Helen Mirren Wants Your Shoulders to Be Free\n",
      "The Dame makes a point about PDA of the patriarchy. Load More MORE FROM The Cut Normcore: Fashion for Those Who Realize They’re One in 7 Billion MORE FROM The Cut Portrait: Catherine Deneuve, an Icon at 70 MORE FROM The Cut I Was a Hollywood Personal Assistant MORE FROM The Cut Meet the 4 Most Desired People in New York (According to OKCupid) MORE FROM The Cut Seriously, Stop Pretending You Ate That MORE FROM The Cut Why Red-Carpet Makeup Looks Bad in Real Life MORE FROM The Cut These Eerie Fetish Photos Were Kept Under Wraps for Years MORE FROM The Cut RIP, Juicy Tracksuits, Famewhore Uniform of the 2000s MORE FROM The Cut Beware the Manic Pixie Dream Boyfriend MORE FROM The Cut Kim Cattrall Is Redefining Motherhood MORE FROM The Cut Vanessa Williams Finally Got Her Miss America Apology MORE FROM The Cut The Bisexual Grad Student Laughing at Fifty Shades of Grey MORE FROM The Cut The Best Street Style From New York Fashion Week MORE FROM The Cut Watching Kim Kardashian Watch Herself in Her Phone Camera MORE FROM The Cut Ask Polly: Should I Just Give Up on My Writing? MORE FROM The Cut When Kylie Jenner Offers to Take a Selfie, the Answer Is Yes MORE FROM The Cut At This Show, the Models’ Falls Were Tightly Choreographed MORE FROM The Cut The Best Party Photos of New York Fashion Week MORE FROM The Cut Hood by Air’s World Is a Shock From the Future MORE FROM The Cut Why Women Love to Read About Crime MORE FROM The Cut Astrology GIFs for the Week of September 14 MORE FROM The Cut Everything You Need to Know About Fashion Week So Far MORE FROM The Cut Frolicking on the Edges of Fashion’s Absurd Pool MORE FROM The Cut Airline Grounds 130 Crew Members Over Their BMIs MORE FROM The Cut Take the Cut’s Fashion Week Style-Personality Quiz MORE FROM The Cut Kanye Relegates Kendall to Second Row at Yeezy Show [Updated] MORE FROM The Cut Surprise: It’s Yeezy Season Again MORE FROM The Cut Helen Mirren Wants Your Shoulders to Be Free MORE FROM The Cut Was Hood by Air Making Fun of Contouring? MORE FROM The Cut Brandon Maxwell’s Debut Show Made Lady Gaga Cry MORE FROM The Cut Drake Continues to Be Serena’s Biggest Fanboy MORE FROM The Cut Ellen Page and Girlfriend Are in Tuxes, in Love MORE FROM The Cut Is There a Phallus in This Taylor Swift Corn Maze? MORE FROM The Cut A Salute to the Women of American Ninja Warrior MORE FROM The Cut 5 Things You Should Buy at Sephora This Month MORE FROM The Cut Is This Weird, No-Foam Cleanser Secretly the Best Face Wash? MORE FROM The Cut Serena Williams Was Born to Be Historic and Badass MORE FROM The Cut Harvard Women Finally Receive Invitation to Boring Rich-Dude Club MORE FROM The Cut Vote for the Top Street-Style Star From Day 4 MORE FROM The Cut Fashion Taps Into the Spiritual Side of Things MORE FROM The Cut Does This Standing Desk Make My Butt Look Big? MORE FROM The Cut Outfit of the Week: A Cool, Office-Friendly Look MORE FROM The Cut The Start-up Helping You Cash In on Designer Bags MORE FROM The Cut The Cult of Mansur Gavriel Now Has Shoes MORE FROM The Cut Samantha Bee Tramples Late Night’s Man-Party MORE FROM The Cut Jeremy Scott Just Wants You to Like Him MORE FROM The Cut A New M.A.C Lipstick From Fashion’s Crazy Uncle MORE FROM The Cut 6 New, Easy Backstage Beauty Lessons From Fashion Week Home Fashions Fashion Shows Street Style Designers Beauty Fame & Look Books Goods Love & War Newsletters Facebook Pinterest Twitter iPad App Instagram RSS Feedly Privacy Terms Site Map Media Kit Ad Choices About Us Contacts Feedback We're Hiring! © 2015, New York Media LLC. View all trademarks Designers Finally Okay With Letting You Do You Theallet’s Triumph; Rodriguez’s Decisiveness Ad will collapse in seconds… CLOSE \n",
      "-->\n",
      " <d> <p> <s> nymag </s> <s>com daily intelligencer vulture cut science us grub street bedford bowery follow facebook twitter username log register fashions runway street style designers fame beauty goods love war search sections fashions fame beauty goods love war plus runway street style designers sites nymag </s> </p> </d>\n",
      "\n",
      "Article # 5\n",
      "Pay up or face legal action: DBKL \n",
      "-->\n",
      " <d> <p> <s> pay up or face legal action dbkl </s> </p> </d>\n",
      "KUALA LUMPUR, Sept 15 (MySinchew) -- The Kuala Lumpur City Hall today issued an ultimatum to Bersih 2.0 to pay the clean-up bill by this month or face legal action.\n",
      "\n",
      "Deputy federal territories minister Datuk Loga Bala Mohan Jaganathan said the bill amounting to RM61,840 includes the monitoring cost and cleaning of banners and graffiti as well as repair of damaged infrastructure.\n",
      "\n",
      "He said DBKL would bring this matter to the court if Bersih 2.0 failed to pay up. \n",
      "-->\n",
      " <d> <p> <s> kuala lumpur sept 15 mysinchew kuala lumpur city hall today issued ultimatum bersih 2 </s> <s>0 pay cleanup bill month face legal action </s> </p> </d>\n",
      "\n"
     ]
    }
   ],
   "source": [
    "# Inspect the cleaned summaries and texts to ensure they have been cleaned well\n",
    "for i in range(5):\n",
    "    print(\"Article #\", i+1)\n",
    "    print(titles[i], '\\n-->\\n', clean_titles[i])\n",
    "    print(contents[i], '\\n-->\\n', clean_contents[i])\n",
    "    print()"
   ]
  },
  {
   "cell_type": "code",
   "execution_count": 45,
   "metadata": {
    "collapsed": true
   },
   "outputs": [],
   "source": [
    "from sklearn.model_selection import train_test_split\n",
    "\n",
    "contents = {'full': clean_contents}\n",
    "titles = {'full': clean_titles}\n",
    "\n",
    "contents['train'], contents['eval'], titles['train'], titles['eval'] = train_test_split(\n",
    "    contents['full'], titles['full'], train_size=0.8\n",
    ")\n",
    "contents['decode'], contents['eval'], titles['decode'], titles['eval'] = train_test_split(\n",
    "    contents['eval'], titles['eval'], test_size=0.5\n",
    ")"
   ]
  },
  {
   "cell_type": "code",
   "execution_count": 46,
   "metadata": {},
   "outputs": [
    {
     "name": "stderr",
     "output_type": "stream",
     "text": [
      "100%|██████████| 800000/800000 [05:06<00:00, 2610.04it/s]\n",
      "100%|██████████| 100000/100000 [00:38<00:00, 2607.05it/s]\n",
      "100%|██████████| 100000/100000 [00:38<00:00, 2598.15it/s]\n"
     ]
    }
   ],
   "source": [
    "from tensorflow.core.example import example_pb2\n",
    "import struct\n",
    "\n",
    "for mode in ['train', 'eval', 'decode']:\n",
    "    with open('data/' + mode + '_newsir', 'wb') as data_file:\n",
    "        for i in tqdm(range(len(titles[mode]))):\n",
    "            tf_example = example_pb2.Example()\n",
    "            tf_example.features.feature['content'].bytes_list.value.extend(\n",
    "                [contents[mode][i].encode()]\n",
    "            )\n",
    "            tf_example.features.feature['title'].bytes_list.value.extend(\n",
    "                [titles[mode][i].encode()]\n",
    "            )\n",
    "            tf_example_str = tf_example.SerializeToString()\n",
    "            str_len = len(tf_example_str)\n",
    "            data_file.write(struct.pack('q', str_len))\n",
    "            data_file.write(struct.pack('%ds' % str_len, tf_example_str))\n"
   ]
  },
  {
   "cell_type": "code",
   "execution_count": 14,
   "metadata": {},
   "outputs": [
    {
     "name": "stderr",
     "output_type": "stream",
     "text": [
      "100%|██████████| 1000000/1000000 [00:09<00:00, 109342.85it/s]\n",
      "100%|██████████| 1000000/1000000 [01:23<00:00, 12018.26it/s]\n"
     ]
    }
   ],
   "source": [
    "token_counter = nltk.Counter()\n",
    "\n",
    "for title in tqdm(clean_titles):\n",
    "    token_counter.update(title.split())\n",
    "for content in tqdm(clean_contents):\n",
    "    token_counter.update(content.split())\n"
   ]
  },
  {
   "cell_type": "code",
   "execution_count": 15,
   "metadata": {},
   "outputs": [
    {
     "name": "stdout",
     "output_type": "stream",
     "text": [
      "283101801 2400114\n"
     ]
    }
   ],
   "source": [
    "token_count = sum(token_counter.values())\n",
    "print(token_count, len(token_counter))"
   ]
  },
  {
   "cell_type": "code",
   "execution_count": 16,
   "metadata": {
    "collapsed": true
   },
   "outputs": [],
   "source": [
    "vocab_size = 10000\n",
    "\n",
    "with open('data/vocab_newsir', 'w') as vocab_file:\n",
    "    most_common_token_count = 0\n",
    "    for _, num in token_counter.most_common(vocab_size):\n",
    "        most_common_token_count += num\n",
    "    print(UNKNOWN_TOKEN, token_count - most_common_token_count, file=vocab_file)\n",
    "    for token, num in token_counter.most_common(vocab_size):\n",
    "        print(token, num, file=vocab_file)\n",
    "    print(PAD_TOKEN, 5, file=vocab_file)\n",
    "    #for token in [PARAGRAPH_END, PARAGRAPH_START, DOCUMENT_END, DOCUMENT_START]:\n",
    "    #    print(token, len(processed_df), file=vocab_file)\n",
    "    #for token in [SENTENCE_END, SENTENCE_START]:\n",
    "    #    print(token, len(processed_df) + token_counter['.'], file=vocab_file)"
   ]
  },
  {
   "cell_type": "code",
   "execution_count": 17,
   "metadata": {
    "collapsed": true
   },
   "outputs": [],
   "source": [
    "import matplotlib.pyplot as plt\n",
    "%matplotlib inline"
   ]
  },
  {
   "cell_type": "code",
   "execution_count": 50,
   "metadata": {},
   "outputs": [
    {
     "data": {
      "image/png": "[encoded data removed]",
      "text/plain": [
       "<matplotlib.figure.Figure at 0x3ffe92d672b0>"
      ]
     },
     "metadata": {},
     "output_type": "display_data"
    }
   ],
   "source": [
    "_ = plt.hist([len(content.split()) for content in clean_contents], bins=50, range=(1, 100))"
   ]
  },
  {
   "cell_type": "code",
   "execution_count": 51,
   "metadata": {},
   "outputs": [
    {
     "data": {
      "text/plain": [
       "932640"
      ]
     },
     "execution_count": 51,
     "metadata": {},
     "output_type": "execute_result"
    }
   ],
   "source": [
    "sum([len(content.split()) < 60 for content in clean_contents])"
   ]
  },
  {
   "cell_type": "code",
   "execution_count": 49,
   "metadata": {},
   "outputs": [
    {
     "data": {
      "image/png": "[encoded data removed]",
      "text/plain": [
       "<matplotlib.figure.Figure at 0x3fff70c41cf8>"
      ]
     },
     "metadata": {},
     "output_type": "display_data"
    }
   ],
   "source": [
    "_ = plt.hist([len(title.split()) for title in clean_titles], bins=20, range=(1, 25))"
   ]
  },
  {
   "cell_type": "code",
   "execution_count": 55,
   "metadata": {},
   "outputs": [
    {
     "data": {
      "text/plain": [
       "993650"
      ]
     },
     "execution_count": 55,
     "metadata": {},
     "output_type": "execute_result"
    }
   ],
   "source": [
    "sum([len(title.split()) < 30 for title in clean_titles])"
   ]
  },
  {
   "cell_type": "code",
   "execution_count": null,
   "metadata": {
    "collapsed": true
   },
   "outputs": [],
   "source": []
  }
 ],
 "metadata": {
  "kernelspec": {
   "display_name": "Python 3",
   "language": "python",
   "name": "python3"
  },
  "language_info": {
   "codemirror_mode": {
    "name": "ipython",
    "version": 3
   },
   "file_extension": ".py",
   "mimetype": "text/x-python",
   "name": "python",
   "nbconvert_exporter": "python",
   "pygments_lexer": "ipython3",
   "version": "3.5.2"
  }
 },
 "nbformat": 4,
 "nbformat_minor": 2
}
