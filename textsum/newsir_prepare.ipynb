{
 "cells": [
  {
   "cell_type": "code",
   "execution_count": 4,
   "metadata": {
    "collapsed": true
   },
   "outputs": [],
   "source": [
    "import numpy as np"
   ]
  },
  {
   "cell_type": "code",
   "execution_count": 5,
   "metadata": {},
   "outputs": [
    {
     "data": {
      "text/plain": [
       "(1000000, 1000000)"
      ]
     },
     "execution_count": 5,
     "metadata": {},
     "output_type": "execute_result"
    }
   ],
   "source": [
    "import json\n",
    "\n",
    "contents = []\n",
    "titles = []\n",
    "\n",
    "with open('../../signalmedia-1m.jsonl') as newsir_file:\n",
    "    for line in newsir_file:\n",
    "        sample = json.loads(line)\n",
    "        contents.append(sample['content'])\n",
    "        titles.append(sample['title'])\n",
    "        \n",
    "len(contents), len(titles)"
   ]
  },
  {
   "cell_type": "code",
   "execution_count": 7,
   "metadata": {},
   "outputs": [
    {
     "data": {
      "text/plain": [
       "393.08864899999998"
      ]
     },
     "execution_count": 7,
     "metadata": {},
     "output_type": "execute_result"
    }
   ],
   "source": [
    "np.mean([len(content.split()) for content in contents])"
   ]
  },
  {
   "cell_type": "code",
   "execution_count": 8,
   "metadata": {},
   "outputs": [
    {
     "data": {
      "text/plain": [
       "9.3770670000000003"
      ]
     },
     "execution_count": 8,
     "metadata": {},
     "output_type": "execute_result"
    }
   ],
   "source": [
    "np.mean([len(title.split()) for title in titles])"
   ]
  },
  {
   "cell_type": "code",
   "execution_count": 9,
   "metadata": {
    "collapsed": true
   },
   "outputs": [],
   "source": [
    "from sklearn.model_selection import train_test_split\n",
    "\n",
    "contents = {'full': contents}\n",
    "titles = {'full': titles}\n",
    "\n",
    "contents['train'], contents['eval'], titles['train'], titles['eval'] = train_test_split(\n",
    "    contents['full'], titles['full'], train_size=0.8\n",
    ")\n",
    "contents['decode'], contents['eval'], titles['decode'], titles['eval'] = train_test_split(\n",
    "    contents['eval'], titles['eval'], test_size=0.5\n",
    ")"
   ]
  },
  {
   "cell_type": "code",
   "execution_count": 10,
   "metadata": {
    "collapsed": true
   },
   "outputs": [],
   "source": [
    "# Special tokens\n",
    "PARAGRAPH_START = '<p>'\n",
    "PARAGRAPH_END = '</p>'\n",
    "SENTENCE_START = '<s>'\n",
    "SENTENCE_END = '</s>'\n",
    "UNKNOWN_TOKEN = '<UNK>'\n",
    "PAD_TOKEN = '<PAD>'\n",
    "DOCUMENT_START = '<d>'\n",
    "DOCUMENT_END = '</d>'"
   ]
  },
  {
   "cell_type": "code",
   "execution_count": 11,
   "metadata": {
    "collapsed": true
   },
   "outputs": [],
   "source": [
    "def process_text(text):\n",
    "    return '{} {} {} {} {} {} {}'.format(DOCUMENT_START, PARAGRAPH_START, SENTENCE_START,\n",
    "                                         (SENTENCE_END + ' ' + SENTENCE_START).join(text.split('.')),\n",
    "                                         SENTENCE_END, PARAGRAPH_END, DOCUMENT_END)"
   ]
  },
  {
   "cell_type": "code",
   "execution_count": 13,
   "metadata": {},
   "outputs": [
    {
     "name": "stderr",
     "output_type": "stream",
     "text": [
      "100%|██████████| 800000/800000 [05:35<00:00, 2381.71it/s]\n",
      "100%|██████████| 100000/100000 [00:41<00:00, 2387.54it/s]\n",
      "100%|██████████| 100000/100000 [00:39<00:00, 2504.24it/s]\n"
     ]
    }
   ],
   "source": [
    "from tensorflow.core.example import example_pb2\n",
    "import struct\n",
    "from tqdm import tqdm\n",
    "\n",
    "for mode in ['train', 'eval', 'decode']:\n",
    "    with open('data/' + mode + '_newsir', 'wb') as data_file:\n",
    "        for i in tqdm(range(len(contents[mode]))):\n",
    "            tf_example = example_pb2.Example()\n",
    "            tf_example.features.feature['article'].bytes_list.value.extend(\n",
    "                [process_text(contents[mode][i]).encode()]\n",
    "            )\n",
    "            tf_example.features.feature['abstract'].bytes_list.value.extend(\n",
    "                [process_text(titles[mode][i]).encode()]\n",
    "            )\n",
    "            tf_example_str = tf_example.SerializeToString()\n",
    "            str_len = len(tf_example_str)\n",
    "            data_file.write(struct.pack('q', str_len))\n",
    "            data_file.write(struct.pack('%ds' % str_len, tf_example_str))\n"
   ]
  },
  {
   "cell_type": "code",
   "execution_count": null,
   "metadata": {},
   "outputs": [
    {
     "name": "stderr",
     "output_type": "stream",
     "text": [
      " 56%|█████▌    | 561233/1000000 [39:44<30:56, 236.29it/s]   51%|█████▏    | 514570/1000000 [36:40<34:35, 233.89it/s]"
     ]
    }
   ],
   "source": [
    "import nltk\n",
    "\n",
    "token_counter = nltk.Counter()\n",
    "\n",
    "for content in tqdm(contents['full']):\n",
    "    token_counter.update(nltk.word_tokenize(process_text(content)))\n",
    "for title in tqdm(titles['full']):\n",
    "    token_counter.update(nltk.word_tokenize(process_text(title)))\n"
   ]
  },
  {
   "cell_type": "code",
   "execution_count": null,
   "metadata": {
    "collapsed": true
   },
   "outputs": [],
   "source": [
    "token_count = sum(token_counter.values())\n",
    "vocab_size = 10000\n",
    "\n",
    "with open('data/vocab_newsir', 'w') as vocab_file:\n",
    "    most_common_token_count = 0\n",
    "    for token, num in token_counter.most_common(vocab_size):\n",
    "        print(token, num, file=vocab_file)\n",
    "        most_common_token_count += num\n",
    "    print(UNKNOWN_TOKEN, token_count - most_common_token_count, file=vocab_file)\n",
    "    print(PAD_TOKEN, 5, file=vocab_file)\n",
    "    for token in [PARAGRAPH_END, PARAGRAPH_START, DOCUMENT_END, DOCUMENT_START]:\n",
    "        print(token, len(contents['full']), file=vocab_file)\n",
    "    for token in [SENTENCE_END, SENTENCE_START]:\n",
    "        print(token, len(contents['full']) + token_counter['.'], file=vocab_file)"
   ]
  },
  {
   "cell_type": "code",
   "execution_count": null,
   "metadata": {
    "collapsed": true
   },
   "outputs": [],
   "source": []
  }
 ],
 "metadata": {
  "kernelspec": {
   "display_name": "Python 3",
   "language": "python",
   "name": "python3"
  },
  "language_info": {
   "codemirror_mode": {
    "name": "ipython",
    "version": 3
   },
   "file_extension": ".py",
   "mimetype": "text/x-python",
   "name": "python",
   "nbconvert_exporter": "python",
   "pygments_lexer": "ipython3",
   "version": "3.5.2"
  }
 },
 "nbformat": 4,
 "nbformat_minor": 2
}
